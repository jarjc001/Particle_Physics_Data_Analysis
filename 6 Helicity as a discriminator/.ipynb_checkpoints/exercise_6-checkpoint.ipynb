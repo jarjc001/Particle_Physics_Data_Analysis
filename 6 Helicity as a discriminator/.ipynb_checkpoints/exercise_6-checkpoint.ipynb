{
 "cells": [
  {
   "cell_type": "markdown",
   "metadata": {},
   "source": [
    "# Helicity as a discriminator in a search for charged Higgs bosons"
   ]
  },
  {
   "cell_type": "markdown",
   "metadata": {},
   "source": [
    "The goal of this exercise is to use theoretical knowledge of helicity to help us in experimental analysis. \n",
    "\n",
    "Helsinki Institute of Physics is involved in a search for charged Higgs bosons in the CMS collaboration. If one adds a second scalar doublet to the standard model, we get in total five physical Higgs bosons. Three of them are neutral and two have an electrical charge. Models predicting these bosons are called *two-Higgs-doublet models* and they are the first step towards for instance supersymmetry and therefore an observation of a charged Higgs boson would be clear evidence of Beyond the Standard Model theories. \n",
    "\n",
    "We will use two simulated data sets in our analysis: \n",
    "\n",
    "- Charged Higgs boson signal sample\n",
    "- W + jet background sample \n",
    "\n",
    "With these we will study the decay of charged Higgs bosons into a tau lepton and a tau neutrino.\n",
    "\n",
    "\n",
    "When searching for new particles, we need to impose cuts to data to increase the signal over background ratio. Signal over background ratio tells us how much signal and background we have after a cut. In other words when we impose a cut, we usually cut background but also some signal. We want to make sure that every cut takes a small amount of signal away and a large amount of background away. \n",
    "\n",
    "The helicity of tau leptons carries information about their origin, so it provides a useful handle for discrimination between the tau leptons originating from charged Higgs boson decays and those originating from a W decays. Therefore, we will use a variable called $R_{\\tau}$ to discriminate between the signal and the background in this exercise. \n",
    "\n",
    "Neutrinos are always left-handed in the Standard Model. Tau leptons produced in a charged Higgs boson's decay are therefore always right-handed since a charged Higgs boson is a scalar particle. On the other hand (pun intended), when a vector boson W decays into a tau lepton, the tau lepton is forced to be left-handed since the neutrino is left-handed. It turns out that this influences the kinematics of the tau lepton decay. Emission of the leading track particle is more likely to be towards the tau lepton's direction of movement for the right-handed tau. Therefore in laboratory coordinates the leading tracks originally caused by the decay of the charged Higgs boson have on average a larger momentum than the ones caused by the decay of the W boson.\n",
    "\n",
    "$R_{\\tau}$ is defined as the leading track $p_T$ of a tau lepton divided by the $p_T$ of the tau lepton. In the data files, the momentum variables are called _LeadingTrackPt_ and _TauPt_. $R_{\\tau}$ can then be calculated by\n",
    "\n",
    "$$\n",
    "\\text{R_tau} = \\frac{\\text{LeadingTrackPt}}{\\text{TauPt}}\n",
    "$$"
   ]
  },
  {
   "cell_type": "markdown",
   "metadata": {},
   "source": [
    "## Part 1 - Calculate $R_{\\tau}$"
   ]
  },
  {
   "cell_type": "markdown",
   "metadata": {},
   "source": [
    "This week's task is to find an optimal value for the $R_{\\tau}$ that cuts the background without taking too much of the signal away. Use the Hplus1.csv and WJet1.csv in this task.\n",
    "\n",
    "We begin with reading the data sets. Your first task is to calculate the $R_{\\tau}$ values for both Hplus and Wjet datasets. Then calculate the average value of $R_{\\tau}$ for both datasets.\n",
    "\n",
    "<br>\n",
    "\n",
    "$\\color{red}{\\text{Write the code below}}$"
   ]
  },
  {
   "cell_type": "code",
   "execution_count": 9,
   "metadata": {},
   "outputs": [
    {
     "name": "stdout",
     "output_type": "stream",
     "text": [
      "Average R_tau value for Higgs: 0.6197976850752246\n",
      "Average R_tau value for W+: 0.5870630264420534\n"
     ]
    }
   ],
   "source": [
    "import pandas as pd\n",
    "import numpy as np\n",
    "\n",
    "Hplus = pd.read_csv('Hplus1.csv')\n",
    "WJet = pd.read_csv('WJet1.csv')\n",
    "\n",
    "def Rtau (LeadingTrack,tau):\n",
    "    return LeadingTrack/tau\n",
    "\n",
    "Rtau_H = Rtau(Hplus.LeadingTrackPt,Hplus.TauPt)\n",
    "Rtau_W = Rtau(WJet.LeadingTrackPt,WJet.TauPt)\n",
    "\n",
    "Average_Rtau_H = sum(Rtau_H)/len(Rtau_H)\n",
    "Average_Rtau_W = sum(Rtau_W)/len(Rtau_W)\n",
    "\n",
    "\n",
    "print(\"Average R_tau value for Higgs:\", Average_Rtau_H)\n",
    "print(\"Average R_tau value for W+:\", Average_Rtau_W)\n",
    "# Read the data sets\n",
    "# Calculate the values of R_tau and return the average values of R_tau for both data sets."
   ]
  },
  {
   "cell_type": "markdown",
   "metadata": {},
   "source": [
    "## Part 2 - Plotting the data"
   ]
  },
  {
   "cell_type": "markdown",
   "metadata": {},
   "source": [
    "It's always a good idea to plot the data to understand what is going on. Use the R_tau distributions you obtained in the previous part and plot both of the datasets in a histogram.\n",
    "\n",
    "<br>\n",
    "\n",
    "$\\color{red}{\\text{Write the code below}}$\n"
   ]
  },
  {
   "cell_type": "code",
   "execution_count": 54,
   "metadata": {},
   "outputs": [
    {
     "data": {
      "image/png": "[encoded data removed]",
      "text/plain": [
       "<Figure size 720x360 with 1 Axes>"
      ]
     },
     "metadata": {
      "needs_background": "light"
     },
     "output_type": "display_data"
    }
   ],
   "source": [
    "import matplotlib.pyplot as plt\n",
    "import pandas as pd\n",
    "import numpy as np\n",
    "\n",
    "Hplus = pd.read_csv('Hplus1.csv')\n",
    "WJet = pd.read_csv('WJet1.csv')\n",
    "\n",
    "def Rtau (LeadingTrack,tau):\n",
    "    return LeadingTrack/tau\n",
    "\n",
    "Rtau_H = Rtau(Hplus.LeadingTrackPt,Hplus.TauPt)\n",
    "Rtau_W = Rtau(WJet.LeadingTrackPt,WJet.TauPt)\n",
    "\n",
    "plt.figure(figsize=(10,5))\n",
    "Hhist = plt.hist(Rtau_H,100,label='Higgs',alpha=0.5)   #,Hbins,Hpatches\n",
    "Whist= plt.hist(Rtau_W,100,label='W+',alpha=0.5)       #,Wbins,Wpatches   \n",
    "plt.xlabel(r'$R_{Tau}$') \n",
    "plt.legend()\n",
    "plt.show() \n",
    "# Plot the R_tau histograms for both datasets and compare them\n",
    "\n",
    "#the W+ boson has more 𝑅𝜏 at the lower end of the histogram, 0.4 to 0.6, than the Higgs 𝑅𝜏. \n",
    "#While the Higgs has more 𝑅𝜏 at the higher end of the histogram, 0.8 to 1.0.\n",
    "#So the Higgs has a higher overall 𝑅𝜏 than the W+ boson, just like the average 𝑅𝜏 for both datasets"
   ]
  },
  {
   "cell_type": "markdown",
   "metadata": {},
   "source": [
    "## Part 3 - Finding the optimal cut"
   ]
  },
  {
   "cell_type": "markdown",
   "metadata": {},
   "source": [
    "Finally, you should find the optimal $R_{\\tau}$ cut that gives us the best purity.\n",
    "The purity $P$ (or signal to background ratio) can be calculated by\n",
    "\n",
    "$$\n",
    "P = \\frac{\\text{(number of signal events after the cut)}}{\\text{(number of background events after the cut)}}.\n",
    "$$\n",
    "\n",
    "Iterate over different $R_{\\tau}$ cut values to find the optimal purity. Always calculate the purity only for the events that have a higher $R_{\\tau}$ value than the cut. To find the optimal cut, try 1000 cuts evenly spaced between [0, 1]. If the cut is over 1 there aren't enough events left for further analysis. Calculate the optimal cut and the purity obtained with it.\n",
    "\n",
    "<br>\n",
    "\n",
    "$\\color{red}{\\text{Write the code below}}$\n"
   ]
  },
  {
   "cell_type": "code",
   "execution_count": 57,
   "metadata": {},
   "outputs": [
    {
     "name": "stdout",
     "output_type": "stream",
     "text": [
      "Optimal R_tau cut value: 0.8258258258258259\n",
      "Purity obtained with Optimal R_tau cut: 1.3236621534493875\n"
     ]
    }
   ],
   "source": [
    "import matplotlib.pyplot as plt\n",
    "import pandas as pd\n",
    "import numpy as np\n",
    "\n",
    "Hplus = pd.read_csv('Hplus1.csv')\n",
    "WJet = pd.read_csv('WJet1.csv')\n",
    "\n",
    "def Rtau (LeadingTrack,tau):\n",
    "    return LeadingTrack/tau\n",
    "\n",
    "Rtau_H = Rtau(Hplus.LeadingTrackPt,Hplus.TauPt)\n",
    "Rtau_W = Rtau(WJet.LeadingTrackPt,WJet.TauPt)\n",
    "\n",
    "length = len(Rtau_H)\n",
    "def purity (signal,background,t_cut):\n",
    "    num_sig = len(signal[signal > t_cut])       #number of R_taus larger than tcut for signal\n",
    "    num_back = len(background[background > t_cut] )   #number of R_taus larger than tcut for background\n",
    "    return num_sig/num_back\n",
    "\n",
    "i_cut=0     #starting t_cut value\n",
    "tests= 1000          #number of cuts to test\n",
    "t=np.linspace(0,1,tests)   #list of t_cut values to test\n",
    "i = 0      #counter\n",
    "\n",
    "while i < tests:\n",
    "    new_purity = purity (Rtau_H,Rtau_W,t[i])\n",
    "    old_purity = purity (Rtau_H,Rtau_W,t[i_cut])\n",
    "    \n",
    "    if new_purity > old_purity:\n",
    "        i_cut = i\n",
    "    \n",
    "    i=i+1\n",
    "\n",
    "print(\"Optimal R_tau cut value:\",t[i_cut])\n",
    "print(\"Purity obtained with Optimal R_tau cut:\", purity (Rtau_H,Rtau_W,t[i_cut]))\n",
    "        \n",
    "# Find the optimal R_tau cut"
   ]
  },
  {
   "cell_type": "code",
   "execution_count": null,
   "metadata": {},
   "outputs": [],
   "source": []
  }
 ],
 "metadata": {
  "kernelspec": {
   "display_name": "Python 3",
   "language": "python",
   "name": "python3"
  },
  "language_info": {
   "codemirror_mode": {
    "name": "ipython",
    "version": 3
   },
   "file_extension": ".py",
   "mimetype": "text/x-python",
   "name": "python",
   "nbconvert_exporter": "python",
   "pygments_lexer": "ipython3",
   "version": "3.7.4"
  }
 },
 "nbformat": 4,
 "nbformat_minor": 4
}
