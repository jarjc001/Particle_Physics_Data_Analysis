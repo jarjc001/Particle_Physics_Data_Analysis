{
 "cells": [
  {
   "cell_type": "markdown",
   "metadata": {},
   "source": [
    "# Fitting a function to histogram"
   ]
  },
  {
   "cell_type": "markdown",
   "metadata": {},
   "source": [
    "In this exercise, your task is to fit a relativistic Breit-Wigner distribution function to a peak in invariant mass histogram. From the parameters of the fitted function, it is then possible to determine the mass and lifetime of the particle that the peak represents.\n",
    "\n",
    "The relativistic Breit-Wigner function is a common distribution function used in the field of high-energy physics. The probability density function writes as\n",
    "\n",
    "$$\n",
    "f(E) = \\frac{K}{(E^2-M^2)^2 + M^2 \\Gamma^2},\n",
    "$$\n",
    "\n",
    "where $E$ is the energy, $M$ the maximum of the distribution (equals to the mass of the particle that is detected in the resonance), $\\Gamma$ the full width at half maximum (FWHM) or the decay width of the particle and $K$ a constant that can be expressed as:\n",
    "\n",
    "$$\n",
    "K = \\frac{2\\sqrt{2}M\\Gamma\\sqrt{M^2(M^2+\\Gamma^2)} }{\\pi\\sqrt{M^2+\\sqrt{M^2(M^2+\\Gamma^2)}}}\n",
    "$$\n",
    "\n",
    "If we also want to include the background events to the fit, we must add additional parameters $a$, $b$ and $A$ to the distribution function. Together with the background event parameters, the probability density function becomes\n",
    "\n",
    "$$\n",
    "f(E) = aE+b+A\\frac{K}{(E^2-M^2)^2 + M^2 \\Gamma^2},\n",
    "$$\n",
    "\n",
    "The decay width $\\Gamma$ and the lifetime $\\tau$ of the particle detected in the resonance are related in the following way:\n",
    "\n",
    "$$\n",
    "\\Gamma \\equiv \\frac{\\hbar}{\\tau},\n",
    "$$\n",
    "\n",
    "where $\\hbar$ is the reduced Planck's constant. This relation is based on the uncertainty principle $\\Delta E \\Delta t \\gtrsim \\hbar $, which states that we cannot know exactly both the energy and lifetime of a particle. Therefore, the shorter the lifetime, the greater the uncertainty in energy."
   ]
  },
  {
   "cell_type": "markdown",
   "metadata": {},
   "source": [
    "# Exercises"
   ]
  },
  {
   "cell_type": "markdown",
   "metadata": {},
   "source": [
    "You will use dataset **\"DoubleMuRun2011A.csv\"**. Your task is to plot the invariant masses of the events in the dataset, fit the relativistic Breit-Wigner function to a peak and determine the mass and lifetime of the particle. Here is a summary of what you should do:\n",
    "\n",
    "1. Plot the invariant mass histogram from the data in **\"DoubleMuRun2011A.csv\"** using 100 bins. The invariant masses are already calculated and are saved to a column called \"M\".\n",
    "1. **Check** which **range** you should use for fitting the distribution function from Moodle exercise **\"Week 3 coding questions\"**. Then plot invariant mass histogram on that range.\n",
    "1. Define a function **bin_centers(bins_edges)** that takes a list of evenly spaced bin edges as arguments and returns the bin centers. **Submit** your **solution** to Moodle exercise **\"Bin centers\"**.\n",
    "1. Define a function **breitwigner(E, gamma, M, a, b, A)** that returns the value of the relativistic Breit-Wigner probability density function. **Submit** your **solution** to Moodle exercise **\"Breit-Wigner distribution\"**.\n",
    "1. Fit Breit-Wigner -function to the peak using bin centers as xdata and bin heights as ydata.\n",
    "1. Find solutions to the questions in Moodle exercise **\"Week 3 coding questions\"**."
   ]
  },
  {
   "cell_type": "markdown",
   "metadata": {},
   "source": [
    "## Part 1 - Invariant mass, bin centers and Breit-Wigner distribution"
   ]
  },
  {
   "cell_type": "markdown",
   "metadata": {},
   "source": [
    "Plot the invariant mass histogram from data in file \"DoubleMuRun2011A.csv\". Use 100 bins. The invariant masses are already calculated and are saved to a column called \"M\".\n"
   ]
  },
  {
   "cell_type": "code",
   "execution_count": 1,
   "metadata": {},
   "outputs": [
    {
     "data": {
      "image/png": "[encoded data removed]",
      "text/plain": [
       "<Figure size 720x360 with 1 Axes>"
      ]
     },
     "metadata": {
      "needs_background": "light"
     },
     "output_type": "display_data"
    }
   ],
   "source": [
    "import pandas as pd\n",
    "import numpy as np\n",
    "import matplotlib.pyplot as plt\n",
    "from scipy.optimize import curve_fit\n",
    "\n",
    "ds = pd.read_csv('DoubleMuRun2011A.csv')\n",
    "\n",
    "inv_mass = ds.M\n",
    "nbins = 100\n",
    "\n",
    "plt.figure(figsize=(10,5))\n",
    "plt.hist(inv_mass,nbins)              \n",
    "plt.xlabel('Invariant Mass / Gev')                \n",
    "plt.show() "
   ]
  },
  {
   "cell_type": "markdown",
   "metadata": {},
   "source": [
    "As you can probably see, the histogram is quite hard to read. However, we can see that there are some interesting peaks that we might want to look more closely at. Check which invariant mass range you should focus on. Then plot invariant mass histogram on that range. Again, use 100 bins. Save the bin edges and bin heights to variables."
   ]
  },
  {
   "cell_type": "code",
   "execution_count": 2,
   "metadata": {},
   "outputs": [
    {
     "data": {
      "image/png": "[encoded data removed]",
      "text/plain": [
       "<Figure size 432x288 with 1 Axes>"
      ]
     },
     "metadata": {
      "needs_background": "light"
     },
     "output_type": "display_data"
    }
   ],
   "source": [
    "lower_limit = 70\n",
    "upper_limit = 110\n",
    "\n",
    "hist,bins,patches = plt.hist(inv_mass,nbins,range=[lower_limit, upper_limit])              \n",
    "plt.xlabel('Invariant Mass / Gev')                \n",
    "plt.show()"
   ]
  },
  {
   "cell_type": "markdown",
   "metadata": {},
   "source": [
    "Now you should be able to see a single peak. Your task is to fit a Breit-Wigner distribution function to this peak. For more accurate results, we want to fit the function using bin centers as our xdata and bin heights as our ydata. We got bin heights and bin edges from plt.hist() as return values. Now we just need to transform the bin edges into bin centers.\n",
    "\n",
    "Write a function **bin_centers(bin_edges)** that takes a list of evenly spaced bin edges as arguments and returns the bin centers. For example, for a list [1, 2, 3, 4, 5], your code should return [1.5, 2.5, 3.5, 4.5].\n"
   ]
  },
  {
   "cell_type": "code",
   "execution_count": 3,
   "metadata": {},
   "outputs": [],
   "source": [
    "def bin_centres(bin_edges):\n",
    "    return[(bin_edges[i] + bin_edges[i+1])/2 for i in range(len(bin_edges)-1)]"
   ]
  },
  {
   "cell_type": "markdown",
   "metadata": {},
   "source": [
    "Before we can do the function fitting, we still need to define the Breit-Wigner function.\n",
    "\n",
    "Write a function **breitwigner(E, gamma, M, a, b, A)** that returns the value of the relativistic Breit-Wigner probability density function. "
   ]
  },
  {
   "cell_type": "code",
   "execution_count": 4,
   "metadata": {},
   "outputs": [],
   "source": [
    "def breitwigner(E, gamma, M, a, b, A):\n",
    "    k_n= 2*np.sqrt(2)*M*gamma*np.sqrt((M**2)*((M**2)+(gamma**2)))  # K Numerator \n",
    "    k_d= np.pi*np.sqrt((M**2)+np.sqrt((M**2)*((M**2)+(gamma**2))))  # K Denominator\n",
    "    \n",
    "    return a*E+b+((A*k_n)/(k_d*((((E**2)-(M**2))**2)+((M**2)*(gamma**2)))))"
   ]
  },
  {
   "cell_type": "markdown",
   "metadata": {},
   "source": [
    "## Part 2 - Fitting Breit-Wigner distribution to histogram"
   ]
  },
  {
   "cell_type": "markdown",
   "metadata": {},
   "source": [
    "First, use your bin_centers()-function to transform the bin edges to bin centers.\n",
    "\n",
    "Finally, it is time to fit the distribution function to the histogram. Use **curve_fit()**-function from scipy.optimize module and find the optimal parameters for the Breit-Wigner distribution. Note that you need some initial guess to get any reasonable optimized parameters from curve_fit function. Approximate your initial guesses for $M$ and $\\Gamma$ from the histogram. For the background parameters, you can use for example the following guesses: $a=1$, $b=A=100$. You should perform the optimization multiple times by using the optimized coefficients from the previous iteration as your initial guess for the next iteration. By doing so, you will get more accurate results.\n"
   ]
  },
  {
   "cell_type": "code",
   "execution_count": 7,
   "metadata": {
    "scrolled": true
   },
   "outputs": [
    {
     "name": "stdout",
     "output_type": "stream",
     "text": [
      "4.232654257761166 90.87745548065435 -2.1311884983453 199.97998220075456 13830.257666667323\n"
     ]
    }
   ],
   "source": [
    "centres = bin_centres(bins)\n",
    "\n",
    "accuracy = 1e-5\n",
    "p0 = [4, 90, 1, 100, 100]\n",
    "while True: # Loop until desired accuracy\n",
    "    curve, covar  = curve_fit(breitwigner, centres, hist, p0)\n",
    "    error = max(abs(p0-curve))\n",
    "    p0 = curve\n",
    "    if error < accuracy: \n",
    "        break\n",
    "    p0 = curve\n",
    "\n",
    "print(*curve)"
   ]
  },
  {
   "cell_type": "markdown",
   "metadata": {},
   "source": [
    "Once you have the optimized parameters, plot the fitted function and the initial histogram to confirm that the fit is good. If the function doesn't seem to describe the histogram well, try using different initial guess or more iterations to find optimal parameters. \n",
    "\n",
    "Print the parameters and their errors. Errors can be calculated by writing np.sqrt(np.diag(covariance)), where covariance is returned by curve_fit -function.\n"
   ]
  },
  {
   "cell_type": "code",
   "execution_count": 8,
   "metadata": {},
   "outputs": [
    {
     "data": {
      "image/png": "[encoded data removed]",
      "text/plain": [
       "<Figure size 720x360 with 1 Axes>"
      ]
     },
     "metadata": {
      "needs_background": "light"
     },
     "output_type": "display_data"
    },
    {
     "name": "stdout",
     "output_type": "stream",
     "text": [
      "Gamma is 4.233 +/- 0.053\n",
      "M is 90.877 +/- 0.016\n",
      "a is -2.131 +/- 0.272\n",
      "b is 199.980 +/- 24.776\n",
      "A is 13830.258 +/- 143.999\n"
     ]
    }
   ],
   "source": [
    "plt.figure(figsize=(10,5))\n",
    "\n",
    "# histogram\n",
    "hist,bins,patches = plt.hist(inv_mass,nbins,range=[lower_limit, upper_limit])              \n",
    "plt.xlabel('Invariant Mass / Gev')   \n",
    "\n",
    "# curve\n",
    "xpoints = np.linspace(lower_limit,upper_limit,300)\n",
    "[gamma, M, a, b, A] = curve\n",
    "errors = np.sqrt(abs(np.diag(covar)))\n",
    "plt.plot(xpoints,breitwigner(xpoints, -gamma, -M, a, b, A),'r-')\n",
    "\n",
    "\n",
    "plt.show()\n",
    "\n",
    "\n",
    "print(\"Gamma is\",\"{:.3f}\".format(gamma), \"+/-\", \"{:.3f}\".format(errors[0]))\n",
    "print(\"M is\",\"{:.3f}\".format(M), \"+/-\",\"{:.3f}\".format(errors[1]))\n",
    "print(\"a is\",\"{:.3f}\".format(a), \"+/-\",\"{:.3f}\".format(errors[2]))\n",
    "print(\"b is\",\"{:.3f}\".format(b), \"+/-\",\"{:.3f}\".format(errors[3]))\n",
    "print(\"A is\",\"{:.3f}\".format(A), \"+/-\",\"{:.3f}\".format(errors[4]))"
   ]
  },
  {
   "cell_type": "markdown",
   "metadata": {},
   "source": [
    "Now that you have a function that represents the data well, you can use it to estimate the lifetime of the particle.\n"
   ]
  },
  {
   "cell_type": "code",
   "execution_count": 9,
   "metadata": {},
   "outputs": [
    {
     "name": "stdout",
     "output_type": "stream",
     "text": [
      "The lifetime of the particle is 1.55524e-25 +/- 1.95884e-27 s\n",
      "The mass of the particle is 90.87746 +/- 4.23265 GeV\n"
     ]
    }
   ],
   "source": [
    "def lifetime(decayWidth):\n",
    "    hbar = 6.626e-34 / (2*np.pi*1.602e-19*1e9)   # GeV*s\n",
    "    return hbar/decayWidth\n",
    "\n",
    "tau = lifetime(gamma)\n",
    "tau_minus = lifetime(gamma-errors[0])\n",
    "tau_plus = lifetime(gamma+errors[0])\n",
    "tau_error = max(tau_minus-tau,tau-tau_plus)\n",
    "\n",
    "\n",
    "print(\"The lifetime of the particle is\",\"{:.5e}\".format(tau), \"+/-\", \"{:.5e}\".format(tau_error),\"s\")\n",
    "print(\"The mass of the particle is\",\"{:.5f}\".format(M),\"+/-\", \"{:.5f}\".format(gamma),\"GeV\")"
   ]
  }
 ],
 "metadata": {
  "kernelspec": {
   "display_name": "Python 3 (ipykernel)",
   "language": "python",
   "name": "python3"
  },
  "language_info": {
   "codemirror_mode": {
    "name": "ipython",
    "version": 3
   },
   "file_extension": ".py",
   "mimetype": "text/x-python",
   "name": "python",
   "nbconvert_exporter": "python",
   "pygments_lexer": "ipython3",
   "version": "3.8.3"
  }
 },
 "nbformat": 4,
 "nbformat_minor": 4
}
