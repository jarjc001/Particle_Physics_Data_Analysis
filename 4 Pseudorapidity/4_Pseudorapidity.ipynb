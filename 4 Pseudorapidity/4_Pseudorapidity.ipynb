{
 "cells": [
  {
   "cell_type": "markdown",
   "metadata": {},
   "source": [
    "# Pseudorapidity"
   ]
  },
  {
   "cell_type": "markdown",
   "metadata": {},
   "source": [
    "In this exercise, you will study how pseudorapidities of muons that are detected in the CMS detector affect to the invariant mass distribution.\n",
    "\n",
    "Pseudorapidity $\\eta$ describes an angle $\\theta$ of which the detected particle has differed from the particle beam (z-axis in Figure 1). As a function of $\\theta$ (in radians), pseudorapidity is defined as\n",
    "\n",
    "$$\n",
    "\\eta = -\\ln(\\tan(\\frac{\\theta}{2})).\n",
    "$$\n",
    "\n",
    "From Figure 1 we can see that a small pseudorapidity, in practice, means that the particle has differed a lot from the particle beam. Similarly, greater pseudorapidity means that the particle has continued almost among the beam line after the collision. In other words, when $\\theta\\longrightarrow0$, $\\eta\\longrightarrow\\infty$ and when $\\theta\\longrightarrow90^\\circ$, $\\eta\\longrightarrow0$."
   ]
  },
  {
   "cell_type": "markdown",
   "metadata": {},
   "source": [
    "<figure>\n",
    "    <img src=\"../images/CMSangles.png\" alt=\"image missing\" style=\"height: 300px\" />\n",
    "    <figcaption>Figure 1: Quantities $\\theta$, $\\eta$ and $\\phi$ in the CMS detector.</figcaption>\n",
    "</figure>"
   ]
  },
  {
   "cell_type": "markdown",
   "metadata": {},
   "source": [
    "Figure 2 shows a situation where two particle beams collide. Two muons with different pseudorapidities are created in this collision (represented as dashed lines). The muon with smaller pseudorapidity hits the barrel part of the detector whereas the muon with greater pseudorapidity hits the endcap of the detector. "
   ]
  },
  {
   "cell_type": "markdown",
   "metadata": {},
   "source": [
    "<figure>\n",
    "    <img src=\"../images/pseudorapidities.png\" alt=\"image missing\" style=\"height: 300px\" />\n",
    "    <figcaption>Figure 2: Two particles with different pseudorapidities in the CMS detector.</figcaption>\n",
    "</figure>"
   ]
  },
  {
   "cell_type": "markdown",
   "metadata": {},
   "source": [
    "# Exercises"
   ]
  },
  {
   "cell_type": "markdown",
   "metadata": {},
   "source": [
    "Your task is to draw two histograms. One shows such muon pairs that have small pseudorapidities and the other shows muon pairs with large pseudorapidities. We can then compare those histograms to see how pseudorapidity affects the mass distributions."
   ]
  },
  {
   "cell_type": "markdown",
   "metadata": {},
   "source": [
    "## Part 1 - Pseudorapidity as a function of $\\theta$"
   ]
  },
  {
   "cell_type": "markdown",
   "metadata": {},
   "source": [
    "In order to see better how pseudorapidity $\\eta$ and the angle $\\theta$ are related, we can plot $\\eta$ as a function of $\\theta$. Write a function **pseudorapidity(theta)** that takes the **angle theta in degrees** as a parameter and **returns** the **pseudorapidity**. Then use your function to plot the pseudorapidity for $\\theta \\in \\mathopen[1^{\\circ},179^{\\circ}\\mathclose]$ \n"
   ]
  },
  {
   "cell_type": "code",
   "execution_count": 3,
   "metadata": {},
   "outputs": [
    {
     "data": {
      "image/png": "[encoded data removed]",
      "text/plain": [
       "<Figure size 720x360 with 1 Axes>"
      ]
     },
     "metadata": {
      "needs_background": "light"
     },
     "output_type": "display_data"
    }
   ],
   "source": [
    "import pandas as pd\n",
    "import numpy as np\n",
    "import matplotlib.pyplot as plt\n",
    "from scipy.optimize import curve_fit\n",
    "\n",
    "def pseudorapidity(theta):\n",
    "    angle = (theta*np.pi)/180\n",
    "    return -np.log(np.tan(angle/2))\n",
    "\n",
    "x = np.linspace(1,179,179)\n",
    "y = pseudorapidity(x)\n",
    "\n",
    "plt.figure(figsize=(10,5))\n",
    "plt.plot(x, y) \n",
    "plt.xlabel(r'$\\theta (^{\\circ})$') \n",
    "plt.ylabel(r'$\\eta$')\n",
    "plt.show() "
   ]
  },
  {
   "cell_type": "markdown",
   "metadata": {},
   "source": [
    "## Part 2 - selecting events from data"
   ]
  },
  {
   "cell_type": "markdown",
   "metadata": {},
   "source": [
    "Your task is to divide the dataset 'DoubleMuRun2011A.csv' to events with small pseudorapidity and large pseudorapidity. Use events where muons have smaller pseudorapidity than 0.38 for small pseudorapidities and larger than 1.52 for large pseudorapidities. Save your datasets to variables 'small_etas' and 'large_etas'.\n",
    "\n",
    "Note that $\\eta$ can also be negative so remember to take the absolute value.\n"
   ]
  },
  {
   "cell_type": "code",
   "execution_count": 4,
   "metadata": {},
   "outputs": [
    {
     "name": "stdout",
     "output_type": "stream",
     "text": [
      "Amount of all events = 475465\n",
      "Amount of the events where the pseudorapidity of the both muons have been large: 34263\n",
      "Amount of the events where the pseudorapidity of the both muons have been small: 34337\n"
     ]
    }
   ],
   "source": [
    "dataset = pd.read_csv('DoubleMuRun2011A.csv')\n",
    "\n",
    "lower_limit = 0.38\n",
    "upper_limit = 1.52\n",
    "\n",
    "small_etas = dataset[(abs(dataset.eta1) < lower_limit) & (abs(dataset.eta2) < lower_limit)]\n",
    "large_etas = dataset[(abs(dataset.eta1) > upper_limit) & (abs(dataset.eta2) > upper_limit)]\n",
    "\n",
    "# Print information of your datasets to see if they are about the same length\n",
    "\n",
    "print('Amount of all events = %d' % len(dataset))\n",
    "print('Amount of the events where the pseudorapidity of the both muons have been large: %d' %len(large_etas))\n",
    "print('Amount of the events where the pseudorapidity of the both muons have been small: %d' %len(small_etas))"
   ]
  },
  {
   "cell_type": "markdown",
   "metadata": {},
   "source": [
    "## Part 3 - Plotting the histograms\n"
   ]
  },
  {
   "cell_type": "markdown",
   "metadata": {},
   "source": [
    "Next, make histograms to compare the datasets containing small pseudorapidities and large pseudorapidities. Just like in previous exercises, we are interested in a single peak. Consider the mass range of a Z boson.\n",
    "\n",
    "For your range of invariant masses:\n",
    "1. Create distinct invariant mass histograms for both large and small eta datasets. Use 100 bins each.\n",
    "1. Fit Breit-Wigner distribution to both histograms\n",
    "1. Consider how pseudorapidity effects to the mass distribution (consider for example the decay width and lifetime of the particle)\n"
   ]
  },
  {
   "cell_type": "code",
   "execution_count": 47,
   "metadata": {},
   "outputs": [
    {
     "data": {
      "image/png": "[encoded data removed]",
      "text/plain": [
       "<Figure size 720x360 with 1 Axes>"
      ]
     },
     "metadata": {
      "needs_background": "light"
     },
     "output_type": "display_data"
    }
   ],
   "source": [
    "Smass = small_etas['M']   ##invariant masses of small and large sets\n",
    "Lmass = large_etas['M']\n",
    "\n",
    "nbins = 100\n",
    "lower_limit = 70\n",
    "upper_limit = 110\n",
    "\n",
    "# plot histogram for both large and small eta\n",
    "\n",
    "plt.figure(figsize=(10,5))\n",
    "Lhist,Lbins,Spatches = plt.hist(Lmass,nbins,range=[lower_limit, upper_limit],label='Large eta',alpha=0.5)\n",
    "Shist,Sbins,Spatches = plt.hist(Smass,nbins,range=[lower_limit, upper_limit],label='Small eta',alpha=0.5)   \n",
    "plt.xlabel('Invariant Mass / Gev') \n",
    "plt.legend()\n",
    "plt.show()\n",
    "\n",
    "\n"
   ]
  },
  {
   "cell_type": "code",
   "execution_count": 48,
   "metadata": {
    "scrolled": true
   },
   "outputs": [],
   "source": [
    "def breitwigner(E, gamma, M, a, b, A):\n",
    "    k_n= 2*np.sqrt(2)*M*gamma*np.sqrt((M**2)*((M**2)+(gamma**2)))  # K Numerator \n",
    "    k_d= np.pi*np.sqrt((M**2)+np.sqrt((M**2)*((M**2)+(gamma**2))))  # K Denominator\n",
    "    \n",
    "    return a*E+b+((A*k_n)/(k_d*((((E**2)-(M**2))**2)+((M**2)*(gamma**2)))))"
   ]
  },
  {
   "cell_type": "code",
   "execution_count": 49,
   "metadata": {},
   "outputs": [],
   "source": [
    "def bin_centres(bin_edges):\n",
    "    return[(bin_edges[i] + bin_edges[i+1])/2 for i in range(len(bin_edges)-1)]\n",
    "        \n",
    "\n",
    "Lcentres = bin_centres(Lbins)\n",
    "Scentres = bin_centres(Sbins)\n",
    "\n"
   ]
  },
  {
   "cell_type": "code",
   "execution_count": 70,
   "metadata": {},
   "outputs": [
    {
     "name": "stdout",
     "output_type": "stream",
     "text": [
      "Large Eta [ 5.39248389e+00  9.07394670e+01 -1.19131852e-01  1.12301739e+01\n",
      "  7.95292031e+02]\n",
      "Small Eta [ 3.54135971e+00  9.09947405e+01 -9.79425688e-02  9.67575541e+00\n",
      "  5.31690101e+02]\n"
     ]
    }
   ],
   "source": [
    "# define parameter accuracy, initial guess and iteration counters\n",
    "\n",
    "accuracy = 1e-5\n",
    "p0 = [5, 90,-1, 100, 100]\n",
    "\n",
    "\n",
    "# large eta\n",
    "while True: # Loop until desired accuracy\n",
    "    Lcurve, Lcovar  = curve_fit(breitwigner, Lcentres, Lhist, p0)\n",
    "    Lerror = max(abs(p0-Lcurve))\n",
    "    if Lerror < accuracy: \n",
    "        break\n",
    "    p0 = Lcurve\n",
    "\n",
    "# small eta\n",
    "while True: # Loop until desired accuracy\n",
    "    Scurve, Scovar  = curve_fit(breitwigner, Scentres, Shist, p0=p0)\n",
    "    Serror = max(abs(p0-Scurve))\n",
    "    if Serror < accuracy: \n",
    "        break\n",
    "    p0 = Scurve\n",
    "    \n",
    "print(f\"Large Eta {Lcurve}\")\n",
    "print(f\"Small Eta {Scurve}\")"
   ]
  },
  {
   "cell_type": "code",
   "execution_count": 74,
   "metadata": {},
   "outputs": [
    {
     "data": {
      "image/png": "[encoded data removed]",
      "text/plain": [
       "<Figure size 720x360 with 1 Axes>"
      ]
     },
     "metadata": {
      "needs_background": "light"
     },
     "output_type": "display_data"
    },
    {
     "name": "stdout",
     "output_type": "stream",
     "text": [
      "Large pseudorapidity:\n",
      "Gamma is 5.392 +/- 0.191\n",
      "M     is 90.739 +/- 0.054\n",
      "a     is -0.119 +/- 0.038\n",
      "b     is 11.230 +/- 3.441\n",
      "A     is 795.292 +/- 24.634\n",
      "\n",
      "Small pseudorapidity:\n",
      "Gamma is 3.541 +/- 0.104\n",
      "M     is 90.995 +/- 0.032\n",
      "a     is -0.098 +/- 0.028\n",
      "b     is 9.676 +/- 2.518\n",
      "A     is 531.690 +/- 12.690\n"
     ]
    }
   ],
   "source": [
    "# Plot curves\n",
    "\n",
    "plt.figure(figsize=(10,5))\n",
    "xpoints = np.linspace(lower_limit,upper_limit,300)\n",
    "\n",
    "# Large Eta\n",
    "plt.plot(xpoints,breitwigner(xpoints, -Lcurve[0],\n",
    "                             -Lcurve[1],Lcurve[2],\n",
    "                             Lcurve[3], Lcurve[4]),\n",
    "                             'r-',label='Large eta')\n",
    "Lerrors = np.sqrt(abs(np.diag(Lcovar)))\n",
    "\n",
    "# Small Eta\n",
    "plt.plot(xpoints,breitwigner(xpoints, -Scurve[0],\n",
    "                             -Scurve[1],Scurve[2],\n",
    "                             Scurve[3], Scurve[4]),\n",
    "                             'b-',label='Small eta')\n",
    "Serrors = np.sqrt(abs(np.diag(Scovar)))\n",
    "\n",
    "\n",
    "plt.xlabel('Invariant Mass / Gev') \n",
    "plt.legend()\n",
    "plt.show()\n",
    "\n",
    "# Large Eta\n",
    "print(\"Large pseudorapidity:\")\n",
    "print(\"Gamma is\",\"{:.3f}\".format(Lcurve[0]), \"+/-\", \"{:.3f}\".format(Lerrors[0]))\n",
    "print(\"M     is\",\"{:.3f}\".format(Lcurve[1]), \"+/-\",\"{:.3f}\".format(Lerrors[1]))\n",
    "print(\"a     is\",\"{:.3f}\".format(Lcurve[2]), \"+/-\",\"{:.3f}\".format(Lerrors[2]))\n",
    "print(\"b     is\",\"{:.3f}\".format(Lcurve[3]), \"+/-\",\"{:.3f}\".format(Lerrors[3]))\n",
    "print(\"A     is\",\"{:.3f}\".format(Lcurve[4]), \"+/-\",\"{:.3f}\".format(Lerrors[4]))\n",
    "print()\n",
    "# Small Eta\n",
    "print(\"Small pseudorapidity:\")\n",
    "print(\"Gamma is\",\"{:.3f}\".format(Scurve[0]), \"+/-\", \"{:.3f}\".format(Serrors[0]))\n",
    "print(\"M     is\",\"{:.3f}\".format(Scurve[1]), \"+/-\",\"{:.3f}\".format(Serrors[1]))\n",
    "print(\"a     is\",\"{:.3f}\".format(Scurve[2]), \"+/-\",\"{:.3f}\".format(Serrors[2]))\n",
    "print(\"b     is\",\"{:.3f}\".format(Scurve[3]), \"+/-\",\"{:.3f}\".format(Serrors[3]))\n",
    "print(\"A     is\",\"{:.3f}\".format(Scurve[4]), \"+/-\",\"{:.3f}\".format(Serrors[4]))\n",
    "\n"
   ]
  },
  {
   "cell_type": "code",
   "execution_count": 76,
   "metadata": {},
   "outputs": [
    {
     "name": "stdout",
     "output_type": "stream",
     "text": [
      "Large pseudorapidity:\n",
      "The lifetime of the particle is 1.22073e-25 +/- 4.47414e-27 s\n",
      "\n",
      "Small pseudorapidity:\n",
      "The lifetime of the particle is 1.85883e-25 +/- 5.61134e-27 s\n"
     ]
    }
   ],
   "source": [
    "def lifetime(decayWidth):\n",
    "    hbar = 6.626e-34 / (2*np.pi*1.602e-19*1e9)   # GeV*s\n",
    "    return hbar/decayWidth\n",
    "\n",
    "#large eta\n",
    "Ltau = lifetime(Lcurve[0])\n",
    "Ltau_minus = lifetime(Lcurve[0]-Lerrors[0])\n",
    "Ltau_plus = lifetime(Lcurve[0]+Lerrors[0])\n",
    "Ltau_error = max(Ltau_minus-Ltau,Ltau-Ltau_plus)\n",
    "\n",
    "print(\"Large pseudorapidity:\")\n",
    "print(\"The lifetime of the particle is\",\"{:.5e}\".format(Ltau), \"+/-\", \"{:.5e}\".format(Ltau_error),\"s\")\n",
    "print()\n",
    "# small eta\n",
    "Stau = lifetime(Scurve[0])\n",
    "Stau_minus = lifetime(Scurve[0]-Serrors[0])\n",
    "Stau_plus = lifetime(Scurve[0]+Serrors[0])\n",
    "Stau_error = max(Stau_minus-Stau,Stau-Stau_plus)\n",
    "\n",
    "print(\"Small pseudorapidity:\")\n",
    "print(\"The lifetime of the particle is\",\"{:.5e}\".format(Stau), \"+/-\", \"{:.5e}\".format(Stau_error),\"s\")\n"
   ]
  },
  {
   "cell_type": "markdown",
   "metadata": {},
   "source": [
    "The smaller the pseudorapidity, the smaller the decay width. There is a smaller deviation of masses, therefore, the greater the lifetime of the particle. \n",
    "This is probaby due to a larger energy collsions for smaller pseudorapidity, as the particles' direction has differed a lot from the orignal beam. This creates a smaller deviation of particles to be detected.\n"
   ]
  }
 ],
 "metadata": {
  "kernelspec": {
   "display_name": "Python 3 (ipykernel)",
   "language": "python",
   "name": "python3"
  },
  "language_info": {
   "codemirror_mode": {
    "name": "ipython",
    "version": 3
   },
   "file_extension": ".py",
   "mimetype": "text/x-python",
   "name": "python",
   "nbconvert_exporter": "python",
   "pygments_lexer": "ipython3",
   "version": "3.8.3"
  }
 },
 "nbformat": 4,
 "nbformat_minor": 4
}
